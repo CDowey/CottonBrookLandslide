{
 "cells": [
  {
   "cell_type": "markdown",
   "metadata": {},
   "source": [
    "Notebook for plotting hillshade or slope rasters on 3D surface plot of elevation with Plotly\n",
    "\n",
    "based off this tutorial https://plot.ly/~empet/14172/mapping-an-image-on-a-surface/#/"
   ]
  },
  {
   "cell_type": "code",
   "execution_count": 17,
   "metadata": {},
   "outputs": [],
   "source": [
    "# Import necessary libraries\n",
    "\n",
    "import plotly\n",
    "import plotly.plotly as py\n",
    "from plotly.graph_objs import *\n",
    "import plotly.graph_objs as go\n",
    "from plotly.offline import iplot, init_notebook_mode\n",
    "import numpy as np\n",
    "import matplotlib.pyplot as plt\n",
    "import matplotlib.cm as cm\n",
    "%matplotlib inline\n",
    "import rasterio as rio\n",
    "import rasterio.plot\n",
    "import pandas as pd\n",
    "import itertools\n",
    "from plotly_func import raster_for_plotly"
   ]
  },
  {
   "cell_type": "code",
   "execution_count": 20,
   "metadata": {},
   "outputs": [],
   "source": [
    "# Read in elevation surfaces for plotly\n",
    "\n",
    "LiDAR_dem = raster_for_plotly(rio.open(LiDAR_dem_p))\n",
    "LiDAR_UAS_dem = raster_for_plotly(rio.open(LiDAR_UAS_dem_p))\n",
    "#UAS_dsm = raster_for_plotly(rio.open(UAS_dsm_p))"
   ]
  },
  {
   "cell_type": "code",
   "execution_count": 6,
   "metadata": {},
   "outputs": [],
   "source": [
    "# Read in hillshade with rasterio and get arrays\n",
    "\n",
    "LiDAR_dem_hs = rio.open(LiDAR_dem_hs_p)\n",
    "LiDAR_UAS_dem_hs = rio.open(LiDAR_UAS_dem_hs_p)\n",
    "#LiDAR_dsm_hs = rio.open(LiDAR_dsm_hs_p)\n",
    "#UAS_hs = rio.open(UAS_hs_p)\n",
    "\n",
    "LiDAR_dem_hs_arr = LiDAR_dem_hs.read()[0]\n",
    "LiDAR_UAS_hs_arr = LiDAR_UAS_dem_hs.read()[0]\n",
    "#UAS_hs_arr = UAS_hs.read()[0]"
   ]
  },
  {
   "cell_type": "code",
   "execution_count": 7,
   "metadata": {},
   "outputs": [],
   "source": [
    "surfcolor = LiDAR_dem_hs_arr\n",
    "surf2color = LiDAR_UAS_hs_arr\n",
    "#surf3color = UAS_hs_arr"
   ]
  },
  {
   "cell_type": "code",
   "execution_count": 8,
   "metadata": {},
   "outputs": [],
   "source": [
    "# Function to convert matplotlib color ramp to plotly color ramp\n",
    "\n",
    "def mpl_to_plotly(cmap, pl_entries):\n",
    "    h=1.0/(pl_entries-1)\n",
    "    pl_colorscale=[]\n",
    "    for k in range(pl_entries):\n",
    "        C=list(map(np.uint8, np.array(cmap(k*h)[:3])*255))\n",
    "        pl_colorscale.append([round(k*h,3), 'rgb'+str((C[0], C[1], C[2]))])\n",
    "    return pl_colorscale"
   ]
  },
  {
   "cell_type": "code",
   "execution_count": 9,
   "metadata": {},
   "outputs": [],
   "source": [
    "pl_grey=mpl_to_plotly(cm.Greys_r, 256)"
   ]
  },
  {
   "cell_type": "code",
   "execution_count": 10,
   "metadata": {},
   "outputs": [],
   "source": [
    "surf=Surface(x=LiDAR_dem['x'], \n",
    "             y=LiDAR_dem['y'], \n",
    "             z=LiDAR_dem['z'],\n",
    "             colorscale=pl_grey,\n",
    "             surfacecolor=surfcolor,\n",
    "             showscale=False\n",
    "            )"
   ]
  },
  {
   "cell_type": "code",
   "execution_count": 11,
   "metadata": {},
   "outputs": [],
   "source": [
    "surf2=Surface(x=LiDAR_UAS_dem['x'], \n",
    "             y=LiDAR_UAS_dem['y'], \n",
    "             z=LiDAR_UAS_dem['z'],\n",
    "             colorscale=pl_grey,\n",
    "             surfacecolor=surf2color,\n",
    "             showscale=False\n",
    "            )"
   ]
  },
  {
   "cell_type": "code",
   "execution_count": 12,
   "metadata": {},
   "outputs": [],
   "source": [
    "# Get Extent\n",
    "\n",
    "# Find x, y, z, max and min values\n",
    "x_min = min([min(LiDAR_dem['x']), min(LiDAR_UAS_dem['x'])])\n",
    "x_max = max([max(LiDAR_dem['x']), max(LiDAR_UAS_dem['x'])])\n",
    "y_min = min([min(LiDAR_dem['y']), min(LiDAR_UAS_dem['y'])])\n",
    "y_max = max([max(LiDAR_dem['y']), max(LiDAR_UAS_dem['y'])])\n",
    "z_min = min([min(LiDAR_dem['z'].flatten()[~np.isnan(LiDAR_dem['z'].flatten())]),min(LiDAR_UAS_dem['z'].flatten()[~np.isnan(LiDAR_UAS_dem['z'].flatten())])])\n",
    "z_max = max([max(LiDAR_dem['z'].flatten()[~np.isnan(LiDAR_dem['z'].flatten())]),max(LiDAR_UAS_dem['z'].flatten()[~np.isnan(LiDAR_UAS_dem['z'].flatten())])])\n",
    "\n",
    "# Create points to plot in corners\n",
    "A = [x_min, x_max]\n",
    "B = [y_min, y_max]\n",
    "C = [z_min, z_max]\n",
    "\n",
    "a = [A, B, C]\n",
    "\n",
    "# Create DataFrame of unique combination of points\n",
    "\n",
    "extent_df = pd.DataFrame(list(itertools.product(*a)), columns = ['x', 'y', 'z'])\n",
    "\n",
    "extent_trace = trace1 = go.Scatter3d(\n",
    "    x=extent_df['x'],\n",
    "    y=extent_df['y'],\n",
    "    z=extent_df['z'],\n",
    "    opacity = 0\n",
    ")"
   ]
  },
  {
   "cell_type": "code",
   "execution_count": 13,
   "metadata": {},
   "outputs": [],
   "source": [
    "# Create Buttons\n",
    "\n",
    "LiDAR_dem_b = [True, False]\n",
    "LiDAR_UAS_b = [False, True]\n",
    "#UAS_dsm_b = [False, False, True]\n",
    "\n",
    "updatemenus = list([\n",
    "    dict(type=\"buttons\",\n",
    "         active=1,\n",
    "         buttons=list([\n",
    "            dict(label = 'Pre-Slide LiDAR DEM',\n",
    "                 method = 'update',\n",
    "                 args = [{'visible': LiDAR_dem_b},\n",
    "                         {'title': 'Pre-Slide LiDAR DEM'}]),\n",
    "             dict(label = 'Post-Slide Blended DEM',\n",
    "                 method = 'update',\n",
    "                 args = [{'visible': LiDAR_UAS_b},\n",
    "                         {'title': 'Post-Slide Blended DEM'}])\n",
    "#              ,\n",
    "#              dict(label = 'UAS DSM',\n",
    "#                  method = 'update',\n",
    "#                  args = [{'visible': UAS_dsm_b},\n",
    "#                          {'title': 'UAS DEM'}]),\n",
    "              ]),\n",
    "    )\n",
    "    ])"
   ]
  },
  {
   "cell_type": "code",
   "execution_count": 14,
   "metadata": {},
   "outputs": [],
   "source": [
    "layout = go.Layout(\n",
    "    title='Cotton Brook Landslide',\n",
    "    autosize=True,\n",
    "    width=1800,\n",
    "    height=1000,\n",
    "    updatemenus=updatemenus,\n",
    "    scene = dict(\n",
    "           xaxis=dict(),\n",
    "           yaxis=dict(),\n",
    "           zaxis=dict(),\n",
    "           aspectmode='manual', # this can be 'data', 'cube', 'auto', 'manual'\n",
    "           # custom aspect ratio\n",
    "           aspectratio=dict(x=1, y=1, z=0.3)\n",
    "           )\n",
    "    )"
   ]
  },
  {
   "cell_type": "code",
   "execution_count": 15,
   "metadata": {},
   "outputs": [
    {
     "data": {
      "text/html": [
       "        <script type=\"text/javascript\">\n",
       "        window.PlotlyConfig = {MathJaxConfig: 'local'};\n",
       "        if (window.MathJax) {MathJax.Hub.Config({SVG: {font: \"STIX-Web\"}});}\n",
       "        if (typeof require !== 'undefined') {\n",
       "        require.undef(\"plotly\");\n",
       "        requirejs.config({\n",
       "            paths: {\n",
       "                'plotly': ['https://cdn.plot.ly/plotly-latest.min']\n",
       "            }\n",
       "        });\n",
       "        require(['plotly'], function(Plotly) {\n",
       "            window._Plotly = Plotly;\n",
       "        });\n",
       "        }\n",
       "        </script>\n",
       "        "
      ]
     },
     "metadata": {},
     "output_type": "display_data"
    },
    {
     "data": {
      "text/plain": [
       "'temp-plot.html'"
      ]
     },
     "execution_count": 15,
     "metadata": {},
     "output_type": "execute_result"
    }
   ],
   "source": [
    "# Create and Render Figure\n",
    "\n",
    "plot_figure = go.Figure(data=[surf, surf2, extent_trace], layout=layout)\n",
    "\n",
    "# Render the plot.\n",
    "init_notebook_mode(connected=True)\n",
    "#plotly.offline.iplot(plot_figure)\n",
    "plotly.offline.plot(plot_figure,)"
   ]
  }
 ],
 "metadata": {
  "kernelspec": {
   "display_name": "Python 3",
   "language": "python",
   "name": "python3"
  },
  "language_info": {
   "codemirror_mode": {
    "name": "ipython",
    "version": 3
   },
   "file_extension": ".py",
   "mimetype": "text/x-python",
   "name": "python",
   "nbconvert_exporter": "python",
   "pygments_lexer": "ipython3",
   "version": "3.6.6"
  }
 },
 "nbformat": 4,
 "nbformat_minor": 2
}
